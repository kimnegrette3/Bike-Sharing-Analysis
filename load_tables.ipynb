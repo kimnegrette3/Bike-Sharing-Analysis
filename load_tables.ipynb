{
 "cells": [
  {
   "cell_type": "code",
   "execution_count": 2,
   "metadata": {},
   "outputs": [],
   "source": [
    "import os\n",
    "import pandas as pd\n",
    "from sqlalchemy import create_engine"
   ]
  },
  {
   "cell_type": "code",
   "execution_count": 4,
   "metadata": {},
   "outputs": [],
   "source": [
    "# upload all the csv files and append them to the rides2022 table\n",
    "\n",
    "# Database connection details\n",
    "database = 'BikeSharing'\n",
    "username = 'root'\n",
    "password = ''\n",
    "host = '127.0.0.1'\n",
    "port = '3306'\n",
    "table_name = 'rides_2022'\n",
    "\n",
    "# Directory containing the CSV files\n",
    "directory = 'rides_2022'\n",
    "\n",
    "# Get a list of CSV files in the directory\n",
    "file_list = [f for f in os.listdir(directory) if f.endswith('.csv')]\n",
    "\n",
    "# Database connection URL\n",
    "connection_url = f'mysql+pymysql://{username}:{password}@{host}:{port}/{database}'\n",
    "\n",
    "# Create SQLAlchemy engine\n",
    "engine = create_engine(connection_url)\n",
    "\n",
    "# Loop through the files and load each one into the database\n",
    "for file in file_list:\n",
    "    filepath = os.path.join(directory, file)\n",
    "    df = pd.read_csv(filepath)  \n",
    "    df.to_sql(table_name, engine, if_exists='append', index=False)\n",
    "\n",
    "# Close the database engine\n",
    "engine.dispose()\n",
    "\n"
   ]
  }
 ],
 "metadata": {
  "kernelspec": {
   "display_name": "env_python_3.10",
   "language": "python",
   "name": "python3"
  },
  "language_info": {
   "codemirror_mode": {
    "name": "ipython",
    "version": 3
   },
   "file_extension": ".py",
   "mimetype": "text/x-python",
   "name": "python",
   "nbconvert_exporter": "python",
   "pygments_lexer": "ipython3",
   "version": "3.10.11"
  },
  "orig_nbformat": 4
 },
 "nbformat": 4,
 "nbformat_minor": 2
}
